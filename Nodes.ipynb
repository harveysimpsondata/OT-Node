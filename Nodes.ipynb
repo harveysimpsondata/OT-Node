{
 "cells": [
  {
   "cell_type": "code",
   "execution_count": 1,
   "metadata": {
    "collapsed": true,
    "ExecuteTime": {
     "end_time": "2023-07-10T02:11:23.028971Z",
     "start_time": "2023-07-10T02:11:21.983171Z"
    }
   },
   "outputs": [],
   "source": [
    "import requests\n",
    "import json\n",
    "from config import api_key\n",
    "import pandas as pd"
   ]
  },
  {
   "cell_type": "code",
   "execution_count": 2,
   "outputs": [],
   "source": [
    "# limit defaults to 500; max 2000\n",
    "# timeFrame defaults to daily; options: daily,latest\n",
    "\n",
    "v_node_stats = f\"https://api.othub.io/otp/views/v_nodes_stats?api_key={api_key}&nodeId&limit&timeFrame\""
   ],
   "metadata": {
    "collapsed": false,
    "ExecuteTime": {
     "end_time": "2023-07-10T02:11:24.524416Z",
     "start_time": "2023-07-10T02:11:24.520231Z"
    }
   }
  },
  {
   "cell_type": "code",
   "execution_count": 3,
   "outputs": [
    {
     "data": {
      "text/plain": "     nodeId                                       networkId  \\\n0        10  QmXkL415jBmkuzi183ALtmCsdEfm3XiUNxLdqKwuUjwCtx   \n1        12  QmaVYtFZcraSnVMpzHhdxHXZHb6juXAQWZ5taShWHWQSUh   \n2        94  QmWXFBUi5EBPpUYXS8Chswymgct14DugGQABzt32m3Ly4p   \n3        86  Qmb44HMCYoQPkNfxxVE6rDtYv3uoKZJkp52cpfQi72BXqD   \n4        71  Qmcq6oVUF64DY8h9SWJkpXugExULwrmnyoySQjQ27sRjkt   \n..      ...                                             ...   \n495      25  QmRiWNNEc9WQAfjX7tM2sdsunbKJTiywWdsYGw6W8Uo1Q1   \n496      66  QmcgCVvM6R7YBU78S5B7DjRhwBsMeV4TAdDyRhDT3Sdr9S   \n497      74  QmdiEMaxS1w2UT29Gh5XmVB43yLTXGij6w4J4nDCicZhVA   \n498       3  QmQHeX9fHNjdBZxHVtuUQDdQDQ2XnvxaxdG7Y5fgiBimLQ   \n499       6  Qmeay8Jy7nMfi7i4ykeEg7qRS5Ba4NpwSH2aQTxXmjCrbL   \n\n              tokenName tokenSymbol   nodeGroup                      date  \\\n0     Trace Labs Node 6    TLNODE_6  Trace Labs  2023-07-10T00:00:00.000Z   \n1    Trace Labs Node 27   TLNODE_27  Trace Labs  2023-07-10T00:00:00.000Z   \n2                 Kanos         KAN    Alliance  2023-07-10T00:00:00.000Z   \n3              Sinaloa2        SNL2        Solo  2023-07-10T00:00:00.000Z   \n4      drMurlly-DKGv6-3     DKGv6-3    Alliance  2023-07-10T00:00:00.000Z   \n..                  ...         ...         ...                       ...   \n495  Trace Labs Node 15   TLNODE_15  Trace Labs  2023-07-06T00:00:00.000Z   \n496        (NLD)OT Node        DANS        Solo  2023-07-06T00:00:00.000Z   \n497        Node Jesus 1         NJ1        Solo  2023-07-06T00:00:00.000Z   \n498   Trace Labs Node 3    TLNODE_3  Trace Labs  2023-07-06T00:00:00.000Z   \n499  Trace Labs Node 19   TLNODE_19  Trace Labs  2023-07-06T00:00:00.000Z   \n\n        nodeStake  pubsCommited  pubsCommited1stEpochOnly  estimatedEarnings  \\\n0    51089.414457             3                         0           0.557578   \n1    51669.816450            10                         2           1.960312   \n2    50230.071634             0                         0           0.000000   \n3    53164.117944            11                         2           2.150859   \n4        0.000000             0                         0           0.000000   \n..            ...           ...                       ...                ...   \n495  52813.983663           222                        51          30.586447   \n496      0.000000             0                         0           0.000000   \n497  50535.614334            57                        31          12.378047   \n498  51857.100350           181                        39          25.078458   \n499  51140.046781           133                        20          16.439249   \n\n     cumulativeEstimatedEarnings    payouts  cumulativePayouts    ask  \n0                    1394.669373   0.446984        1089.414453  0.130  \n1                    2319.426222   2.175716        1669.816446  0.110  \n2                     648.994063   0.000000         230.071633  0.240  \n3                     715.864438   0.000000         164.117944  0.240  \n4                     532.144590   0.000000           0.000000  0.240  \n..                           ...        ...                ...    ...  \n495                  4051.091950  13.329589        2813.739848  0.110  \n496                     0.000000   0.000000           0.000000  0.240  \n497                  1028.540682   3.008333         535.614334  0.240  \n498                  2996.508646   9.648319        1857.100347  0.128  \n499                  1942.501064   2.335585        1140.046777  0.120  \n\n[500 rows x 14 columns]",
      "text/html": "<div>\n<style scoped>\n    .dataframe tbody tr th:only-of-type {\n        vertical-align: middle;\n    }\n\n    .dataframe tbody tr th {\n        vertical-align: top;\n    }\n\n    .dataframe thead th {\n        text-align: right;\n    }\n</style>\n<table border=\"1\" class=\"dataframe\">\n  <thead>\n    <tr style=\"text-align: right;\">\n      <th></th>\n      <th>nodeId</th>\n      <th>networkId</th>\n      <th>tokenName</th>\n      <th>tokenSymbol</th>\n      <th>nodeGroup</th>\n      <th>date</th>\n      <th>nodeStake</th>\n      <th>pubsCommited</th>\n      <th>pubsCommited1stEpochOnly</th>\n      <th>estimatedEarnings</th>\n      <th>cumulativeEstimatedEarnings</th>\n      <th>payouts</th>\n      <th>cumulativePayouts</th>\n      <th>ask</th>\n    </tr>\n  </thead>\n  <tbody>\n    <tr>\n      <th>0</th>\n      <td>10</td>\n      <td>QmXkL415jBmkuzi183ALtmCsdEfm3XiUNxLdqKwuUjwCtx</td>\n      <td>Trace Labs Node 6</td>\n      <td>TLNODE_6</td>\n      <td>Trace Labs</td>\n      <td>2023-07-10T00:00:00.000Z</td>\n      <td>51089.414457</td>\n      <td>3</td>\n      <td>0</td>\n      <td>0.557578</td>\n      <td>1394.669373</td>\n      <td>0.446984</td>\n      <td>1089.414453</td>\n      <td>0.130</td>\n    </tr>\n    <tr>\n      <th>1</th>\n      <td>12</td>\n      <td>QmaVYtFZcraSnVMpzHhdxHXZHb6juXAQWZ5taShWHWQSUh</td>\n      <td>Trace Labs Node 27</td>\n      <td>TLNODE_27</td>\n      <td>Trace Labs</td>\n      <td>2023-07-10T00:00:00.000Z</td>\n      <td>51669.816450</td>\n      <td>10</td>\n      <td>2</td>\n      <td>1.960312</td>\n      <td>2319.426222</td>\n      <td>2.175716</td>\n      <td>1669.816446</td>\n      <td>0.110</td>\n    </tr>\n    <tr>\n      <th>2</th>\n      <td>94</td>\n      <td>QmWXFBUi5EBPpUYXS8Chswymgct14DugGQABzt32m3Ly4p</td>\n      <td>Kanos</td>\n      <td>KAN</td>\n      <td>Alliance</td>\n      <td>2023-07-10T00:00:00.000Z</td>\n      <td>50230.071634</td>\n      <td>0</td>\n      <td>0</td>\n      <td>0.000000</td>\n      <td>648.994063</td>\n      <td>0.000000</td>\n      <td>230.071633</td>\n      <td>0.240</td>\n    </tr>\n    <tr>\n      <th>3</th>\n      <td>86</td>\n      <td>Qmb44HMCYoQPkNfxxVE6rDtYv3uoKZJkp52cpfQi72BXqD</td>\n      <td>Sinaloa2</td>\n      <td>SNL2</td>\n      <td>Solo</td>\n      <td>2023-07-10T00:00:00.000Z</td>\n      <td>53164.117944</td>\n      <td>11</td>\n      <td>2</td>\n      <td>2.150859</td>\n      <td>715.864438</td>\n      <td>0.000000</td>\n      <td>164.117944</td>\n      <td>0.240</td>\n    </tr>\n    <tr>\n      <th>4</th>\n      <td>71</td>\n      <td>Qmcq6oVUF64DY8h9SWJkpXugExULwrmnyoySQjQ27sRjkt</td>\n      <td>drMurlly-DKGv6-3</td>\n      <td>DKGv6-3</td>\n      <td>Alliance</td>\n      <td>2023-07-10T00:00:00.000Z</td>\n      <td>0.000000</td>\n      <td>0</td>\n      <td>0</td>\n      <td>0.000000</td>\n      <td>532.144590</td>\n      <td>0.000000</td>\n      <td>0.000000</td>\n      <td>0.240</td>\n    </tr>\n    <tr>\n      <th>...</th>\n      <td>...</td>\n      <td>...</td>\n      <td>...</td>\n      <td>...</td>\n      <td>...</td>\n      <td>...</td>\n      <td>...</td>\n      <td>...</td>\n      <td>...</td>\n      <td>...</td>\n      <td>...</td>\n      <td>...</td>\n      <td>...</td>\n      <td>...</td>\n    </tr>\n    <tr>\n      <th>495</th>\n      <td>25</td>\n      <td>QmRiWNNEc9WQAfjX7tM2sdsunbKJTiywWdsYGw6W8Uo1Q1</td>\n      <td>Trace Labs Node 15</td>\n      <td>TLNODE_15</td>\n      <td>Trace Labs</td>\n      <td>2023-07-06T00:00:00.000Z</td>\n      <td>52813.983663</td>\n      <td>222</td>\n      <td>51</td>\n      <td>30.586447</td>\n      <td>4051.091950</td>\n      <td>13.329589</td>\n      <td>2813.739848</td>\n      <td>0.110</td>\n    </tr>\n    <tr>\n      <th>496</th>\n      <td>66</td>\n      <td>QmcgCVvM6R7YBU78S5B7DjRhwBsMeV4TAdDyRhDT3Sdr9S</td>\n      <td>(NLD)OT Node</td>\n      <td>DANS</td>\n      <td>Solo</td>\n      <td>2023-07-06T00:00:00.000Z</td>\n      <td>0.000000</td>\n      <td>0</td>\n      <td>0</td>\n      <td>0.000000</td>\n      <td>0.000000</td>\n      <td>0.000000</td>\n      <td>0.000000</td>\n      <td>0.240</td>\n    </tr>\n    <tr>\n      <th>497</th>\n      <td>74</td>\n      <td>QmdiEMaxS1w2UT29Gh5XmVB43yLTXGij6w4J4nDCicZhVA</td>\n      <td>Node Jesus 1</td>\n      <td>NJ1</td>\n      <td>Solo</td>\n      <td>2023-07-06T00:00:00.000Z</td>\n      <td>50535.614334</td>\n      <td>57</td>\n      <td>31</td>\n      <td>12.378047</td>\n      <td>1028.540682</td>\n      <td>3.008333</td>\n      <td>535.614334</td>\n      <td>0.240</td>\n    </tr>\n    <tr>\n      <th>498</th>\n      <td>3</td>\n      <td>QmQHeX9fHNjdBZxHVtuUQDdQDQ2XnvxaxdG7Y5fgiBimLQ</td>\n      <td>Trace Labs Node 3</td>\n      <td>TLNODE_3</td>\n      <td>Trace Labs</td>\n      <td>2023-07-06T00:00:00.000Z</td>\n      <td>51857.100350</td>\n      <td>181</td>\n      <td>39</td>\n      <td>25.078458</td>\n      <td>2996.508646</td>\n      <td>9.648319</td>\n      <td>1857.100347</td>\n      <td>0.128</td>\n    </tr>\n    <tr>\n      <th>499</th>\n      <td>6</td>\n      <td>Qmeay8Jy7nMfi7i4ykeEg7qRS5Ba4NpwSH2aQTxXmjCrbL</td>\n      <td>Trace Labs Node 19</td>\n      <td>TLNODE_19</td>\n      <td>Trace Labs</td>\n      <td>2023-07-06T00:00:00.000Z</td>\n      <td>51140.046781</td>\n      <td>133</td>\n      <td>20</td>\n      <td>16.439249</td>\n      <td>1942.501064</td>\n      <td>2.335585</td>\n      <td>1140.046777</td>\n      <td>0.120</td>\n    </tr>\n  </tbody>\n</table>\n<p>500 rows × 14 columns</p>\n</div>"
     },
     "execution_count": 3,
     "metadata": {},
     "output_type": "execute_result"
    }
   ],
   "source": [
    "v_node_stats_response = requests.get(v_node_stats)\n",
    "\n",
    "v_node_stats_data = v_node_stats_response.json()\n",
    "\n",
    "v_node_stats_df = pd.DataFrame(v_node_stats_data)\n",
    "v_node_stats_df"
   ],
   "metadata": {
    "collapsed": false,
    "ExecuteTime": {
     "end_time": "2023-07-10T02:11:32.647359Z",
     "start_time": "2023-07-10T02:11:26.119099Z"
    }
   }
  },
  {
   "cell_type": "code",
   "execution_count": 4,
   "outputs": [],
   "source": [
    "# limit  defaults to 500; max 2000\n",
    "# timeframe defaults to hourly; options: hourly, daily, weekly, monthly\n",
    "\n",
    "v_node_stats_last=f\"https://api.othub.io/otp/views/v_nodes_stats_last?api_key={api_key}&nodeId&limit&daily\""
   ],
   "metadata": {
    "collapsed": false,
    "ExecuteTime": {
     "end_time": "2023-07-10T02:11:37.357433Z",
     "start_time": "2023-07-10T02:11:37.350447Z"
    }
   }
  },
  {
   "cell_type": "code",
   "execution_count": 5,
   "outputs": [
    {
     "data": {
      "text/plain": "     nodeId                                       networkId  \\\n0        10  QmXkL415jBmkuzi183ALtmCsdEfm3XiUNxLdqKwuUjwCtx   \n1        12  QmaVYtFZcraSnVMpzHhdxHXZHb6juXAQWZ5taShWHWQSUh   \n2        94  QmWXFBUi5EBPpUYXS8Chswymgct14DugGQABzt32m3Ly4p   \n3        86  Qmb44HMCYoQPkNfxxVE6rDtYv3uoKZJkp52cpfQi72BXqD   \n4        71  Qmcq6oVUF64DY8h9SWJkpXugExULwrmnyoySQjQ27sRjkt   \n..      ...                                             ...   \n495      25  QmRiWNNEc9WQAfjX7tM2sdsunbKJTiywWdsYGw6W8Uo1Q1   \n496      66  QmcgCVvM6R7YBU78S5B7DjRhwBsMeV4TAdDyRhDT3Sdr9S   \n497      74  QmdiEMaxS1w2UT29Gh5XmVB43yLTXGij6w4J4nDCicZhVA   \n498       3  QmQHeX9fHNjdBZxHVtuUQDdQDQ2XnvxaxdG7Y5fgiBimLQ   \n499       6  Qmeay8Jy7nMfi7i4ykeEg7qRS5Ba4NpwSH2aQTxXmjCrbL   \n\n              tokenName tokenSymbol   nodeGroup                      date  \\\n0     Trace Labs Node 6    TLNODE_6  Trace Labs  2023-07-10T00:00:00.000Z   \n1    Trace Labs Node 27   TLNODE_27  Trace Labs  2023-07-10T00:00:00.000Z   \n2                 Kanos         KAN    Alliance  2023-07-10T00:00:00.000Z   \n3              Sinaloa2        SNL2        Solo  2023-07-10T00:00:00.000Z   \n4      drMurlly-DKGv6-3     DKGv6-3    Alliance  2023-07-10T00:00:00.000Z   \n..                  ...         ...         ...                       ...   \n495  Trace Labs Node 15   TLNODE_15  Trace Labs  2023-07-06T00:00:00.000Z   \n496        (NLD)OT Node        DANS        Solo  2023-07-06T00:00:00.000Z   \n497        Node Jesus 1         NJ1        Solo  2023-07-06T00:00:00.000Z   \n498   Trace Labs Node 3    TLNODE_3  Trace Labs  2023-07-06T00:00:00.000Z   \n499  Trace Labs Node 19   TLNODE_19  Trace Labs  2023-07-06T00:00:00.000Z   \n\n        nodeStake  pubsCommited  pubsCommited1stEpochOnly  estimatedEarnings  \\\n0    51089.414457             3                         0           0.557578   \n1    51669.816450            10                         2           1.960312   \n2    50230.071634             0                         0           0.000000   \n3    53164.117944            11                         2           2.150859   \n4        0.000000             0                         0           0.000000   \n..            ...           ...                       ...                ...   \n495  52813.983663           222                        51          30.586447   \n496      0.000000             0                         0           0.000000   \n497  50535.614334            57                        31          12.378047   \n498  51857.100350           181                        39          25.078458   \n499  51140.046781           133                        20          16.439249   \n\n     cumulativeEstimatedEarnings    payouts  cumulativePayouts    ask  \n0                    1394.669373   0.446984        1089.414453  0.130  \n1                    2319.426222   2.175716        1669.816446  0.110  \n2                     648.994063   0.000000         230.071633  0.240  \n3                     715.864438   0.000000         164.117944  0.240  \n4                     532.144590   0.000000           0.000000  0.240  \n..                           ...        ...                ...    ...  \n495                  4051.091950  13.329589        2813.739848  0.110  \n496                     0.000000   0.000000           0.000000  0.240  \n497                  1028.540682   3.008333         535.614334  0.240  \n498                  2996.508646   9.648319        1857.100347  0.128  \n499                  1942.501064   2.335585        1140.046777  0.120  \n\n[500 rows x 14 columns]",
      "text/html": "<div>\n<style scoped>\n    .dataframe tbody tr th:only-of-type {\n        vertical-align: middle;\n    }\n\n    .dataframe tbody tr th {\n        vertical-align: top;\n    }\n\n    .dataframe thead th {\n        text-align: right;\n    }\n</style>\n<table border=\"1\" class=\"dataframe\">\n  <thead>\n    <tr style=\"text-align: right;\">\n      <th></th>\n      <th>nodeId</th>\n      <th>networkId</th>\n      <th>tokenName</th>\n      <th>tokenSymbol</th>\n      <th>nodeGroup</th>\n      <th>date</th>\n      <th>nodeStake</th>\n      <th>pubsCommited</th>\n      <th>pubsCommited1stEpochOnly</th>\n      <th>estimatedEarnings</th>\n      <th>cumulativeEstimatedEarnings</th>\n      <th>payouts</th>\n      <th>cumulativePayouts</th>\n      <th>ask</th>\n    </tr>\n  </thead>\n  <tbody>\n    <tr>\n      <th>0</th>\n      <td>10</td>\n      <td>QmXkL415jBmkuzi183ALtmCsdEfm3XiUNxLdqKwuUjwCtx</td>\n      <td>Trace Labs Node 6</td>\n      <td>TLNODE_6</td>\n      <td>Trace Labs</td>\n      <td>2023-07-10T00:00:00.000Z</td>\n      <td>51089.414457</td>\n      <td>3</td>\n      <td>0</td>\n      <td>0.557578</td>\n      <td>1394.669373</td>\n      <td>0.446984</td>\n      <td>1089.414453</td>\n      <td>0.130</td>\n    </tr>\n    <tr>\n      <th>1</th>\n      <td>12</td>\n      <td>QmaVYtFZcraSnVMpzHhdxHXZHb6juXAQWZ5taShWHWQSUh</td>\n      <td>Trace Labs Node 27</td>\n      <td>TLNODE_27</td>\n      <td>Trace Labs</td>\n      <td>2023-07-10T00:00:00.000Z</td>\n      <td>51669.816450</td>\n      <td>10</td>\n      <td>2</td>\n      <td>1.960312</td>\n      <td>2319.426222</td>\n      <td>2.175716</td>\n      <td>1669.816446</td>\n      <td>0.110</td>\n    </tr>\n    <tr>\n      <th>2</th>\n      <td>94</td>\n      <td>QmWXFBUi5EBPpUYXS8Chswymgct14DugGQABzt32m3Ly4p</td>\n      <td>Kanos</td>\n      <td>KAN</td>\n      <td>Alliance</td>\n      <td>2023-07-10T00:00:00.000Z</td>\n      <td>50230.071634</td>\n      <td>0</td>\n      <td>0</td>\n      <td>0.000000</td>\n      <td>648.994063</td>\n      <td>0.000000</td>\n      <td>230.071633</td>\n      <td>0.240</td>\n    </tr>\n    <tr>\n      <th>3</th>\n      <td>86</td>\n      <td>Qmb44HMCYoQPkNfxxVE6rDtYv3uoKZJkp52cpfQi72BXqD</td>\n      <td>Sinaloa2</td>\n      <td>SNL2</td>\n      <td>Solo</td>\n      <td>2023-07-10T00:00:00.000Z</td>\n      <td>53164.117944</td>\n      <td>11</td>\n      <td>2</td>\n      <td>2.150859</td>\n      <td>715.864438</td>\n      <td>0.000000</td>\n      <td>164.117944</td>\n      <td>0.240</td>\n    </tr>\n    <tr>\n      <th>4</th>\n      <td>71</td>\n      <td>Qmcq6oVUF64DY8h9SWJkpXugExULwrmnyoySQjQ27sRjkt</td>\n      <td>drMurlly-DKGv6-3</td>\n      <td>DKGv6-3</td>\n      <td>Alliance</td>\n      <td>2023-07-10T00:00:00.000Z</td>\n      <td>0.000000</td>\n      <td>0</td>\n      <td>0</td>\n      <td>0.000000</td>\n      <td>532.144590</td>\n      <td>0.000000</td>\n      <td>0.000000</td>\n      <td>0.240</td>\n    </tr>\n    <tr>\n      <th>...</th>\n      <td>...</td>\n      <td>...</td>\n      <td>...</td>\n      <td>...</td>\n      <td>...</td>\n      <td>...</td>\n      <td>...</td>\n      <td>...</td>\n      <td>...</td>\n      <td>...</td>\n      <td>...</td>\n      <td>...</td>\n      <td>...</td>\n      <td>...</td>\n    </tr>\n    <tr>\n      <th>495</th>\n      <td>25</td>\n      <td>QmRiWNNEc9WQAfjX7tM2sdsunbKJTiywWdsYGw6W8Uo1Q1</td>\n      <td>Trace Labs Node 15</td>\n      <td>TLNODE_15</td>\n      <td>Trace Labs</td>\n      <td>2023-07-06T00:00:00.000Z</td>\n      <td>52813.983663</td>\n      <td>222</td>\n      <td>51</td>\n      <td>30.586447</td>\n      <td>4051.091950</td>\n      <td>13.329589</td>\n      <td>2813.739848</td>\n      <td>0.110</td>\n    </tr>\n    <tr>\n      <th>496</th>\n      <td>66</td>\n      <td>QmcgCVvM6R7YBU78S5B7DjRhwBsMeV4TAdDyRhDT3Sdr9S</td>\n      <td>(NLD)OT Node</td>\n      <td>DANS</td>\n      <td>Solo</td>\n      <td>2023-07-06T00:00:00.000Z</td>\n      <td>0.000000</td>\n      <td>0</td>\n      <td>0</td>\n      <td>0.000000</td>\n      <td>0.000000</td>\n      <td>0.000000</td>\n      <td>0.000000</td>\n      <td>0.240</td>\n    </tr>\n    <tr>\n      <th>497</th>\n      <td>74</td>\n      <td>QmdiEMaxS1w2UT29Gh5XmVB43yLTXGij6w4J4nDCicZhVA</td>\n      <td>Node Jesus 1</td>\n      <td>NJ1</td>\n      <td>Solo</td>\n      <td>2023-07-06T00:00:00.000Z</td>\n      <td>50535.614334</td>\n      <td>57</td>\n      <td>31</td>\n      <td>12.378047</td>\n      <td>1028.540682</td>\n      <td>3.008333</td>\n      <td>535.614334</td>\n      <td>0.240</td>\n    </tr>\n    <tr>\n      <th>498</th>\n      <td>3</td>\n      <td>QmQHeX9fHNjdBZxHVtuUQDdQDQ2XnvxaxdG7Y5fgiBimLQ</td>\n      <td>Trace Labs Node 3</td>\n      <td>TLNODE_3</td>\n      <td>Trace Labs</td>\n      <td>2023-07-06T00:00:00.000Z</td>\n      <td>51857.100350</td>\n      <td>181</td>\n      <td>39</td>\n      <td>25.078458</td>\n      <td>2996.508646</td>\n      <td>9.648319</td>\n      <td>1857.100347</td>\n      <td>0.128</td>\n    </tr>\n    <tr>\n      <th>499</th>\n      <td>6</td>\n      <td>Qmeay8Jy7nMfi7i4ykeEg7qRS5Ba4NpwSH2aQTxXmjCrbL</td>\n      <td>Trace Labs Node 19</td>\n      <td>TLNODE_19</td>\n      <td>Trace Labs</td>\n      <td>2023-07-06T00:00:00.000Z</td>\n      <td>51140.046781</td>\n      <td>133</td>\n      <td>20</td>\n      <td>16.439249</td>\n      <td>1942.501064</td>\n      <td>2.335585</td>\n      <td>1140.046777</td>\n      <td>0.120</td>\n    </tr>\n  </tbody>\n</table>\n<p>500 rows × 14 columns</p>\n</div>"
     },
     "execution_count": 5,
     "metadata": {},
     "output_type": "execute_result"
    }
   ],
   "source": [
    "v_node_stats_last_response = requests.get(v_node_stats)\n",
    "\n",
    "v_node_stats_last_data = v_node_stats_last_response.json()\n",
    "\n",
    "v_node_stats_last_df = pd.DataFrame(v_node_stats_last_data)\n",
    "v_node_stats_last_df"
   ],
   "metadata": {
    "collapsed": false,
    "ExecuteTime": {
     "end_time": "2023-07-10T02:11:44.542541Z",
     "start_time": "2023-07-10T02:11:40.158334Z"
    }
   }
  },
  {
   "cell_type": "code",
   "execution_count": 21,
   "outputs": [],
   "source": [
    "# limit defaults to 1000, max 2000\n",
    "# timeframe defaults to daily; options hourly,daily\n",
    "\n",
    "v_pub_stats = f\"https://api.othub.io/otp/views/v_pubs_stats?api_key={api_key}&timeframe=daily&limit=\""
   ],
   "metadata": {
    "collapsed": false,
    "ExecuteTime": {
     "end_time": "2023-07-10T02:16:04.966650Z",
     "start_time": "2023-07-10T02:16:04.961460Z"
    }
   }
  },
  {
   "cell_type": "code",
   "execution_count": 22,
   "outputs": [
    {
     "data": {
      "text/plain": "                         date  avgPubSize  avgEpochsNumber  avgPubPrice  \\\n0    2022-12-14T00:00:00.000Z    467.0000          10.0000     0.051306   \n1    2022-12-15T00:00:00.000Z   1003.4379           5.0099     0.055161   \n2    2022-12-16T00:00:00.000Z   1005.4435           5.0000     0.055231   \n3    2022-12-17T00:00:00.000Z    981.2647           5.0000     0.053902   \n4    2022-12-18T00:00:00.000Z   1007.1987           5.0000     0.055300   \n..                        ...         ...              ...          ...   \n180  2023-07-06T00:00:00.000Z    608.6314           5.0000     3.699020   \n181  2023-07-07T00:00:00.000Z    596.8975           5.0000     3.693230   \n182  2023-07-08T00:00:00.000Z    607.0838           5.0000     3.699546   \n183  2023-07-09T00:00:00.000Z    649.5019           5.0000     3.781695   \n184  2023-07-10T00:00:00.000Z    581.0000           5.0000     3.737486   \n\n       avgBid  totalPubs  totalTracSpent  \n0    0.003750          1        0.051306  \n1    0.003750       1014       55.933264  \n2    0.003750       3312      182.923954  \n3    0.003750       3302      177.985985  \n4    0.003748       3327      183.983528  \n..        ...        ...             ...  \n180  0.457508       1183     4375.940625  \n181  0.467469       1571     5802.064453  \n182  0.461761       1576     5830.484766  \n183  0.455202       1542     5831.374219  \n184  0.500019        140      523.248047  \n\n[185 rows x 7 columns]",
      "text/html": "<div>\n<style scoped>\n    .dataframe tbody tr th:only-of-type {\n        vertical-align: middle;\n    }\n\n    .dataframe tbody tr th {\n        vertical-align: top;\n    }\n\n    .dataframe thead th {\n        text-align: right;\n    }\n</style>\n<table border=\"1\" class=\"dataframe\">\n  <thead>\n    <tr style=\"text-align: right;\">\n      <th></th>\n      <th>date</th>\n      <th>avgPubSize</th>\n      <th>avgEpochsNumber</th>\n      <th>avgPubPrice</th>\n      <th>avgBid</th>\n      <th>totalPubs</th>\n      <th>totalTracSpent</th>\n    </tr>\n  </thead>\n  <tbody>\n    <tr>\n      <th>0</th>\n      <td>2022-12-14T00:00:00.000Z</td>\n      <td>467.0000</td>\n      <td>10.0000</td>\n      <td>0.051306</td>\n      <td>0.003750</td>\n      <td>1</td>\n      <td>0.051306</td>\n    </tr>\n    <tr>\n      <th>1</th>\n      <td>2022-12-15T00:00:00.000Z</td>\n      <td>1003.4379</td>\n      <td>5.0099</td>\n      <td>0.055161</td>\n      <td>0.003750</td>\n      <td>1014</td>\n      <td>55.933264</td>\n    </tr>\n    <tr>\n      <th>2</th>\n      <td>2022-12-16T00:00:00.000Z</td>\n      <td>1005.4435</td>\n      <td>5.0000</td>\n      <td>0.055231</td>\n      <td>0.003750</td>\n      <td>3312</td>\n      <td>182.923954</td>\n    </tr>\n    <tr>\n      <th>3</th>\n      <td>2022-12-17T00:00:00.000Z</td>\n      <td>981.2647</td>\n      <td>5.0000</td>\n      <td>0.053902</td>\n      <td>0.003750</td>\n      <td>3302</td>\n      <td>177.985985</td>\n    </tr>\n    <tr>\n      <th>4</th>\n      <td>2022-12-18T00:00:00.000Z</td>\n      <td>1007.1987</td>\n      <td>5.0000</td>\n      <td>0.055300</td>\n      <td>0.003748</td>\n      <td>3327</td>\n      <td>183.983528</td>\n    </tr>\n    <tr>\n      <th>...</th>\n      <td>...</td>\n      <td>...</td>\n      <td>...</td>\n      <td>...</td>\n      <td>...</td>\n      <td>...</td>\n      <td>...</td>\n    </tr>\n    <tr>\n      <th>180</th>\n      <td>2023-07-06T00:00:00.000Z</td>\n      <td>608.6314</td>\n      <td>5.0000</td>\n      <td>3.699020</td>\n      <td>0.457508</td>\n      <td>1183</td>\n      <td>4375.940625</td>\n    </tr>\n    <tr>\n      <th>181</th>\n      <td>2023-07-07T00:00:00.000Z</td>\n      <td>596.8975</td>\n      <td>5.0000</td>\n      <td>3.693230</td>\n      <td>0.467469</td>\n      <td>1571</td>\n      <td>5802.064453</td>\n    </tr>\n    <tr>\n      <th>182</th>\n      <td>2023-07-08T00:00:00.000Z</td>\n      <td>607.0838</td>\n      <td>5.0000</td>\n      <td>3.699546</td>\n      <td>0.461761</td>\n      <td>1576</td>\n      <td>5830.484766</td>\n    </tr>\n    <tr>\n      <th>183</th>\n      <td>2023-07-09T00:00:00.000Z</td>\n      <td>649.5019</td>\n      <td>5.0000</td>\n      <td>3.781695</td>\n      <td>0.455202</td>\n      <td>1542</td>\n      <td>5831.374219</td>\n    </tr>\n    <tr>\n      <th>184</th>\n      <td>2023-07-10T00:00:00.000Z</td>\n      <td>581.0000</td>\n      <td>5.0000</td>\n      <td>3.737486</td>\n      <td>0.500019</td>\n      <td>140</td>\n      <td>523.248047</td>\n    </tr>\n  </tbody>\n</table>\n<p>185 rows × 7 columns</p>\n</div>"
     },
     "execution_count": 22,
     "metadata": {},
     "output_type": "execute_result"
    }
   ],
   "source": [
    "v_pub_stats_response = requests.get(v_pub_stats)\n",
    "\n",
    "v_pub_stats_data = v_pub_stats_response.json()\n",
    "\n",
    "v_pub_stats_df = pd.DataFrame(v_pub_stats_data)\n",
    "v_pub_stats_df"
   ],
   "metadata": {
    "collapsed": false,
    "ExecuteTime": {
     "end_time": "2023-07-10T02:16:06.547926Z",
     "start_time": "2023-07-10T02:16:05.782577Z"
    }
   }
  },
  {
   "cell_type": "code",
   "execution_count": 16,
   "outputs": [],
   "source": [
    "# limit defaults to 1000, max 2000\n",
    "# timeframe defaults to daily; options hourly,daily, weekly, monthly\n",
    "\n",
    "v_pub_stats_last = f\"https://api.othub.io/otp/views/v_pubs_stats_last?api_key={api_key}&timeframe=hourly&limit=\""
   ],
   "metadata": {
    "collapsed": false,
    "ExecuteTime": {
     "end_time": "2023-07-10T02:14:10.376252Z",
     "start_time": "2023-07-10T02:14:10.369780Z"
    }
   }
  },
  {
   "cell_type": "code",
   "execution_count": 17,
   "outputs": [
    {
     "data": {
      "text/plain": "                   datetime  avgPubSize  avgEpochsNumber  avgPubPrice  \\\n0  2023-07-10T01:59:48.000Z    555.1636                5      3.71397   \n\n     avgBid  totalPubs  totalTracSpent  \n0  0.509896         55      204.268359  ",
      "text/html": "<div>\n<style scoped>\n    .dataframe tbody tr th:only-of-type {\n        vertical-align: middle;\n    }\n\n    .dataframe tbody tr th {\n        vertical-align: top;\n    }\n\n    .dataframe thead th {\n        text-align: right;\n    }\n</style>\n<table border=\"1\" class=\"dataframe\">\n  <thead>\n    <tr style=\"text-align: right;\">\n      <th></th>\n      <th>datetime</th>\n      <th>avgPubSize</th>\n      <th>avgEpochsNumber</th>\n      <th>avgPubPrice</th>\n      <th>avgBid</th>\n      <th>totalPubs</th>\n      <th>totalTracSpent</th>\n    </tr>\n  </thead>\n  <tbody>\n    <tr>\n      <th>0</th>\n      <td>2023-07-10T01:59:48.000Z</td>\n      <td>555.1636</td>\n      <td>5</td>\n      <td>3.71397</td>\n      <td>0.509896</td>\n      <td>55</td>\n      <td>204.268359</td>\n    </tr>\n  </tbody>\n</table>\n</div>"
     },
     "execution_count": 17,
     "metadata": {},
     "output_type": "execute_result"
    }
   ],
   "source": [
    "v_pub_stats_last_response = requests.get(v_pub_stats_last)\n",
    "\n",
    "v_pub_stats_last_data = v_pub_stats_last_response.json()\n",
    "\n",
    "v_pub_stats_last_df = pd.DataFrame(v_pub_stats_last_data)\n",
    "v_pub_stats_last_df"
   ],
   "metadata": {
    "collapsed": false,
    "ExecuteTime": {
     "end_time": "2023-07-10T02:14:11.853210Z",
     "start_time": "2023-07-10T02:14:11.242617Z"
    }
   }
  },
  {
   "cell_type": "code",
   "execution_count": 18,
   "outputs": [],
   "source": [
    "v_node_stats_csv = v_node_stats_df.to_csv(r'v_node_stats.csv', index = None, header=True)\n",
    "v_node_stats_last_csv = v_node_stats_last_df.to_csv(r'v_node_stats_last.csv', index = None, header=True)\n",
    "v_pub_stats_csv = v_pub_stats_df.to_csv(r'v_pub_stats.csv', index = None, header=True)\n",
    "v_pub_stats_last_csv = v_pub_stats_last_df.to_csv(r'v_pub_stats_last.csv', index = None, header=True)"
   ],
   "metadata": {
    "collapsed": false,
    "ExecuteTime": {
     "end_time": "2023-07-10T02:14:14.345906Z",
     "start_time": "2023-07-10T02:14:14.321052Z"
    }
   }
  },
  {
   "cell_type": "code",
   "execution_count": null,
   "outputs": [],
   "source": [],
   "metadata": {
    "collapsed": false
   }
  }
 ],
 "metadata": {
  "kernelspec": {
   "display_name": "Python 3",
   "language": "python",
   "name": "python3"
  },
  "language_info": {
   "codemirror_mode": {
    "name": "ipython",
    "version": 2
   },
   "file_extension": ".py",
   "mimetype": "text/x-python",
   "name": "python",
   "nbconvert_exporter": "python",
   "pygments_lexer": "ipython2",
   "version": "2.7.6"
  }
 },
 "nbformat": 4,
 "nbformat_minor": 0
}
